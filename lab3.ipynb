{
 "cells": [
  {
   "cell_type": "markdown",
   "metadata": {},
   "source": [
    "# Задание\n",
    "\n",
    "20.\t В столовой самообслуживания имеется один раздаточный пункт, на котором отпускаются как первые, так и вторые блюда. Поток посетителей столовой — простейший с интенсивностью $ x $; на отпуск как первого, так и второго блюда идет случайное время, распределенное по показательному закону с одним и тем же параметром $ р $. Некоторые посетители берут и первое, и второе (доля таких посетителей равна $ q $), другие — только второе (доля 1 — $ q $). Найти: 1) условия, при которых существует устойчивый, стационарный режим работы столовой; 2) среднюю длину очереди и среднее время пребывания посетителей в столовой, если посетитель съедает одно блюдо в среднем за время $ t $, а два блюда — за время 2 $ t $. \n",
    "\n",
    "Устойчивость — свойство системы сохранять состояние равновесия или некоторого движения при воздействии на нее факторов, вызывающих определенные начальные отклонения.\n"
   ]
  },
  {
   "cell_type": "code",
   "execution_count": 24,
   "metadata": {},
   "outputs": [],
   "source": [
    "import numpy as np\n",
    "import simpy as sp\n",
    "import statistics as st\n",
    "import random"
   ]
  },
  {
   "cell_type": "markdown",
   "metadata": {},
   "source": [
    "# СМО\n",
    "Системой массового обслуживания (СМО) называется любая система для\n",
    "выполнения заявок, поступающих в неё в случайные моменты времени. "
   ]
  },
  {
   "cell_type": "markdown",
   "metadata": {},
   "source": [
    "$ x $ - интенсивность потока посетителей \\\n",
    "$ p $ - параметр для показательного распределения потока обслуживания \\\n",
    "$ q $ - доля посетителей которые берут 2 блюда \\"
   ]
  },
  {
   "cell_type": "markdown",
   "metadata": {},
   "source": [
    "Класс который предоставляет типы посетителей:"
   ]
  },
  {
   "cell_type": "code",
   "execution_count": 25,
   "metadata": {},
   "outputs": [],
   "source": [
    "import enum\n",
    "\n",
    "class VisitorsTypes(enum.Enum):\n",
    "    one_dish = 1\n",
    "    two_dish = 2"
   ]
  },
  {
   "cell_type": "markdown",
   "metadata": {},
   "source": [
    "Класс СМО:"
   ]
  },
  {
   "cell_type": "code",
   "execution_count": 26,
   "metadata": {},
   "outputs": [],
   "source": [
    "class QueueSystem(object):\n",
    "    def __init__(self, env, x, p, q):\n",
    "        self.env = env\n",
    "\n",
    "        self.x = x\n",
    "        self.p = p\n",
    "        self.q = q\n",
    "        self.resources = sp.Resource(env, 1)\n",
    "\n",
    "        self.serve_times = []\n",
    "        self.queue_times = []\n",
    "        self.queue_len = []\n",
    "\n",
    "    def start(self, action):\n",
    "        while True:\n",
    "            yield self.env.timeout(1 / self.x)\n",
    "            rand = random.random()\n",
    "            visitor_type = VisitorsTypes.two_dish if rand <= self.q else VisitorsTypes.one_dish\n",
    "            self.env.process(action(self, visitor_type))\n",
    "\n",
    "    def serve(self, visitor_type):\n",
    "        yield self.env.timeout(np.random.exponential(1.0 / self.p))\n",
    "        if visitor_type == VisitorsTypes.two_dish:\n",
    "            yield self.env.timeout(np.random.exponential(1.0 / self.p))"
   ]
  },
  {
   "cell_type": "markdown",
   "metadata": {},
   "source": [
    "Функция которая реализует процес обработки заявок:"
   ]
  },
  {
   "cell_type": "code",
   "execution_count": 27,
   "metadata": {},
   "outputs": [],
   "source": [
    "def serve(queue_system, visitor_type):\n",
    "  with queue_system.resources.request() as request:\n",
    "      queue_system.queue_len.append(len(queue_system.resources.queue))\n",
    "      start = queue_system.env.now\n",
    "      yield request\n",
    "      queue_system.queue_times.append(queue_system.env.now - start)\n",
    "      yield queue_system.env.process(queue_system.serve(visitor_type))\n",
    "      queue_system.serve_times.append((queue_system.env.now - start, visitor_type))"
   ]
  },
  {
   "cell_type": "markdown",
   "metadata": {},
   "source": [
    "# Подсчет результатов работы СМО"
   ]
  },
  {
   "cell_type": "code",
   "execution_count": 28,
   "metadata": {},
   "outputs": [],
   "source": [
    "def get_avg_time_in_canteen(queue_system, t):\n",
    "    all_time_in_canteen = []\n",
    "    for time, visitor_type in queue_system.serve_times:\n",
    "        all_time_in_canteen.append(time + visitor_type.value * t)\n",
    "    return st.mean(all_time_in_canteen)"
   ]
  },
  {
   "cell_type": "code",
   "execution_count": 29,
   "metadata": {},
   "outputs": [],
   "source": [
    "def get_avg_queue_len(queue_system):\n",
    "    return st.mean(queue_system.queue_len)"
   ]
  },
  {
   "cell_type": "markdown",
   "metadata": {},
   "source": [
    "# Тест кейсы"
   ]
  },
  {
   "cell_type": "code",
   "execution_count": 58,
   "metadata": {},
   "outputs": [],
   "source": [
    "def run_qs(x, p, q, t, work_time):\n",
    "    env = sp.Environment()\n",
    "    queue_system = QueueSystem(env, x, p, q)\n",
    "    env.process(queue_system.start(serve))\n",
    "    env.run(until = work_time)\n",
    "    print(\"Средняя длина очереди: \" + str(get_avg_queue_len(queue_system)))\n",
    "    print(\"Среднее время пребывания посетителей в столовой: \" + str(get_avg_time_in_canteen(queue_system, t)))"
   ]
  },
  {
   "cell_type": "code",
   "execution_count": 59,
   "metadata": {},
   "outputs": [
    {
     "name": "stdout",
     "output_type": "stream",
     "text": [
      "Тест 1\n",
      "Средняя длина очереди: 0.676126878130217\n",
      "Среднее время пребывания посетителей в столовой: 117.43906236365484\n"
     ]
    }
   ],
   "source": [
    "print(\"Тест 1\")\n",
    "run_qs(60, 100, 0.2, 100, 10)"
   ]
  },
  {
   "cell_type": "code",
   "execution_count": 60,
   "metadata": {},
   "outputs": [
    {
     "name": "stdout",
     "output_type": "stream",
     "text": [
      "Тест 2\n",
      "Средняя длина очереди: 0.656641604010025\n",
      "Среднее время пребывания посетителей в столовой: 266.3591838019813\n"
     ]
    }
   ],
   "source": [
    "print(\"Тест 2\")\n",
    "run_qs(40, 80, 0.4, 200, 10)"
   ]
  }
 ],
 "metadata": {
  "interpreter": {
   "hash": "57baa5815c940fdaff4d14510622de9616cae602444507ba5d0b6727c008cbd6"
  },
  "kernelspec": {
   "display_name": "Python 3.7.8 64-bit",
   "name": "python3"
  },
  "language_info": {
   "codemirror_mode": {
    "name": "ipython",
    "version": 3
   },
   "file_extension": ".py",
   "mimetype": "text/x-python",
   "name": "python",
   "nbconvert_exporter": "python",
   "pygments_lexer": "ipython3",
   "version": "3.7.8"
  },
  "orig_nbformat": 4
 },
 "nbformat": 4,
 "nbformat_minor": 2
}
